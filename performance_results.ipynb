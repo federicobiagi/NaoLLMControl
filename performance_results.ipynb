{
  "cells": [
    {
      "cell_type": "code",
      "execution_count": 1,
      "metadata": {
        "id": "f1wv1L-h0Zdm"
      },
      "outputs": [
        {
          "name": "stdout",
          "output_type": "stream",
          "text": [
            "Requirement already satisfied: pandas in c:\\users\\feder\\.conda\\envs\\sisinfoenv\\lib\\site-packages (1.3.5)\n",
            "Requirement already satisfied: pytz>=2017.3 in c:\\users\\feder\\.conda\\envs\\sisinfoenv\\lib\\site-packages (from pandas) (2024.1)\n",
            "Requirement already satisfied: python-dateutil>=2.7.3 in c:\\users\\feder\\.conda\\envs\\sisinfoenv\\lib\\site-packages (from pandas) (2.8.2)\n",
            "Requirement already satisfied: numpy>=1.17.3 in c:\\users\\feder\\.conda\\envs\\sisinfoenv\\lib\\site-packages (from pandas) (1.21.6)\n",
            "Requirement already satisfied: six>=1.5 in c:\\users\\feder\\.conda\\envs\\sisinfoenv\\lib\\site-packages (from python-dateutil>=2.7.3->pandas) (1.16.0)\n",
            "Note: you may need to restart the kernel to use updated packages.\n",
            "Requirement already satisfied: seaborn in c:\\users\\feder\\.conda\\envs\\sisinfoenv\\lib\\site-packages (0.12.2)\n",
            "Requirement already satisfied: matplotlib!=3.6.1,>=3.1 in c:\\users\\feder\\.conda\\envs\\sisinfoenv\\lib\\site-packages (from seaborn) (3.5.3)\n",
            "Requirement already satisfied: pandas>=0.25 in c:\\users\\feder\\.conda\\envs\\sisinfoenv\\lib\\site-packages (from seaborn) (1.3.5)\n",
            "Requirement already satisfied: typing_extensions in c:\\users\\feder\\.conda\\envs\\sisinfoenv\\lib\\site-packages (from seaborn) (4.7.1)\n",
            "Requirement already satisfied: numpy!=1.24.0,>=1.17 in c:\\users\\feder\\.conda\\envs\\sisinfoenv\\lib\\site-packages (from seaborn) (1.21.6)\n",
            "Requirement already satisfied: pillow>=6.2.0 in c:\\users\\feder\\.conda\\envs\\sisinfoenv\\lib\\site-packages (from matplotlib!=3.6.1,>=3.1->seaborn) (9.5.0)\n",
            "Requirement already satisfied: pyparsing>=2.2.1 in c:\\users\\feder\\.conda\\envs\\sisinfoenv\\lib\\site-packages (from matplotlib!=3.6.1,>=3.1->seaborn) (3.1.1)\n",
            "Requirement already satisfied: python-dateutil>=2.7 in c:\\users\\feder\\.conda\\envs\\sisinfoenv\\lib\\site-packages (from matplotlib!=3.6.1,>=3.1->seaborn) (2.8.2)\n",
            "Requirement already satisfied: fonttools>=4.22.0 in c:\\users\\feder\\.conda\\envs\\sisinfoenv\\lib\\site-packages (from matplotlib!=3.6.1,>=3.1->seaborn) (4.38.0)\n",
            "Requirement already satisfied: kiwisolver>=1.0.1 in c:\\users\\feder\\.conda\\envs\\sisinfoenv\\lib\\site-packages (from matplotlib!=3.6.1,>=3.1->seaborn) (1.4.5)\n",
            "Requirement already satisfied: packaging>=20.0 in c:\\users\\feder\\.conda\\envs\\sisinfoenv\\lib\\site-packages (from matplotlib!=3.6.1,>=3.1->seaborn) (23.2)\n",
            "Requirement already satisfied: cycler>=0.10 in c:\\users\\feder\\.conda\\envs\\sisinfoenv\\lib\\site-packages (from matplotlib!=3.6.1,>=3.1->seaborn) (0.11.0)\n",
            "Requirement already satisfied: pytz>=2017.3 in c:\\users\\feder\\.conda\\envs\\sisinfoenv\\lib\\site-packages (from pandas>=0.25->seaborn) (2024.1)\n",
            "Requirement already satisfied: six>=1.5 in c:\\users\\feder\\.conda\\envs\\sisinfoenv\\lib\\site-packages (from python-dateutil>=2.7->matplotlib!=3.6.1,>=3.1->seaborn) (1.16.0)\n",
            "Note: you may need to restart the kernel to use updated packages.\n",
            "Requirement already satisfied: matplotlib in c:\\users\\feder\\.conda\\envs\\sisinfoenv\\lib\\site-packages (3.5.3)\n",
            "Requirement already satisfied: fonttools>=4.22.0 in c:\\users\\feder\\.conda\\envs\\sisinfoenv\\lib\\site-packages (from matplotlib) (4.38.0)\n",
            "Requirement already satisfied: packaging>=20.0 in c:\\users\\feder\\.conda\\envs\\sisinfoenv\\lib\\site-packages (from matplotlib) (23.2)\n",
            "Requirement already satisfied: cycler>=0.10 in c:\\users\\feder\\.conda\\envs\\sisinfoenv\\lib\\site-packages (from matplotlib) (0.11.0)\n",
            "Requirement already satisfied: numpy>=1.17 in c:\\users\\feder\\.conda\\envs\\sisinfoenv\\lib\\site-packages (from matplotlib) (1.21.6)\n",
            "Requirement already satisfied: python-dateutil>=2.7 in c:\\users\\feder\\.conda\\envs\\sisinfoenv\\lib\\site-packages (from matplotlib) (2.8.2)\n",
            "Requirement already satisfied: pyparsing>=2.2.1 in c:\\users\\feder\\.conda\\envs\\sisinfoenv\\lib\\site-packages (from matplotlib) (3.1.1)\n",
            "Requirement already satisfied: kiwisolver>=1.0.1 in c:\\users\\feder\\.conda\\envs\\sisinfoenv\\lib\\site-packages (from matplotlib) (1.4.5)\n",
            "Requirement already satisfied: pillow>=6.2.0 in c:\\users\\feder\\.conda\\envs\\sisinfoenv\\lib\\site-packages (from matplotlib) (9.5.0)\n",
            "Requirement already satisfied: typing-extensions in c:\\users\\feder\\.conda\\envs\\sisinfoenv\\lib\\site-packages (from kiwisolver>=1.0.1->matplotlib) (4.7.1)\n",
            "Requirement already satisfied: six>=1.5 in c:\\users\\feder\\.conda\\envs\\sisinfoenv\\lib\\site-packages (from python-dateutil>=2.7->matplotlib) (1.16.0)\n",
            "Note: you may need to restart the kernel to use updated packages.\n"
          ]
        }
      ],
      "source": [
        "%pip install pandas\n",
        "import pandas as pd\n",
        "import os\n",
        "import json\n",
        "from pathlib import Path\n",
        "%pip install seaborn\n",
        "import seaborn as sns\n",
        "%pip install matplotlib\n",
        "import matplotlib.pyplot as plt\n"
      ]
    },
    {
      "cell_type": "markdown",
      "metadata": {
        "id": "4SRpgND20Zd0"
      },
      "source": [
        "### DIFFICULTY SCORE CALCULUS"
      ]
    },
    {
      "cell_type": "markdown",
      "metadata": {},
      "source": [
        "Methods used to calculate the Difficulty Score based on the gathered data"
      ]
    },
    {
      "cell_type": "code",
      "execution_count": 2,
      "metadata": {
        "id": "IbgmXGFv0ZeG"
      },
      "outputs": [],
      "source": [
        "def normalize(x,min,max): # x min=1.58 max=9,5\n",
        "    norm = (x - min)/(max-min)  #x - min(x) / max(x) - min(x)\n",
        "    return float(norm)"
      ]
    },
    {
      "cell_type": "code",
      "execution_count": 3,
      "metadata": {
        "id": "zPeptkP60ZeG"
      },
      "outputs": [],
      "source": [
        "def compute_score_dataset(df):\n",
        "    df['Score_Norm'] = float(0.0)\n",
        "    for index, row in df.iterrows():\n",
        "        jointlist = ['LShoulderPitch','LShoulderRoll','LElbowYaw','LElbowRoll','LWristYaw','LHand','RShoulderPitch','RShoulderRoll','RElbowYaw','RElbowRoll','RWristYaw','RHand']\n",
        "        num_joints = 0\n",
        "        for j in jointlist:\n",
        "            num_joints = num_joints + row['Answer'].count(j)\n",
        "        num_joints = num_joints + row['Answer'].count('move')\n",
        "        num_joints = num_joints + row['Answer'].count('say')\n",
        "        num_tries = row['Num_tries']\n",
        "        time_sec = row['Elapsed Time']\n",
        "        score = 0.5*num_tries + 0.30*num_joints + 0.20*time_sec\n",
        "        df.at[index,'Score'] = score\n",
        "    scoreslist = list(df['Score'])\n",
        "    max_value = max(scoreslist)\n",
        "    min_value = min(scoreslist)\n",
        "    for index, row in df.iterrows():\n",
        "        selected_score = row['Score']\n",
        "        if row['Corrected'] == 'Impossible':\n",
        "            df.at[index,'Score'] = max_value #se il robot non riesce a completare il task, si assegna massima difficoltà al task\n",
        "            selected_score = max_value\n",
        "        df.at[index,'Score_Norm'] = normalize(selected_score,min_value,max_value)\n",
        "    df.to_csv('./PromptTable_eval_with_Score.csv',index=False,sep=';')\n"
      ]
    },
    {
      "cell_type": "markdown",
      "metadata": {
        "id": "uCCOIsvu0ZeH"
      },
      "source": [
        "### ACCURACY CALCULUS"
      ]
    },
    {
      "cell_type": "code",
      "execution_count": 4,
      "metadata": {
        "id": "eRymghUP0ZeH",
        "outputId": "cf3f92c0-b465-4611-c9fa-fe3edd39b7ff"
      },
      "outputs": [
        {
          "data": {
            "text/html": [
              "<div>\n",
              "<style scoped>\n",
              "    .dataframe tbody tr th:only-of-type {\n",
              "        vertical-align: middle;\n",
              "    }\n",
              "\n",
              "    .dataframe tbody tr th {\n",
              "        vertical-align: top;\n",
              "    }\n",
              "\n",
              "    .dataframe thead th {\n",
              "        text-align: right;\n",
              "    }\n",
              "</style>\n",
              "<table border=\"1\" class=\"dataframe\">\n",
              "  <thead>\n",
              "    <tr style=\"text-align: right;\">\n",
              "      <th></th>\n",
              "      <th>Question</th>\n",
              "      <th>Answer</th>\n",
              "      <th>Failure</th>\n",
              "      <th>Elapsed Time</th>\n",
              "      <th>Num_tries</th>\n",
              "      <th>Corrected</th>\n",
              "      <th>GPT-version</th>\n",
              "      <th>Score_Norm</th>\n",
              "      <th>Score</th>\n",
              "    </tr>\n",
              "  </thead>\n",
              "  <tbody>\n",
              "    <tr>\n",
              "      <th>0</th>\n",
              "      <td>\"Dammi il 5!\"</td>\n",
              "      <td>nao.setAngle(['RShoulderPitch'  'RElbowRoll'  ...</td>\n",
              "      <td>No</td>\n",
              "      <td>3.927</td>\n",
              "      <td>2.0</td>\n",
              "      <td>Yes</td>\n",
              "      <td>gpt-3.5-turbo</td>\n",
              "      <td>0.175142</td>\n",
              "      <td>3.2854</td>\n",
              "    </tr>\n",
              "    <tr>\n",
              "      <th>1</th>\n",
              "      <td>\"batti le mani\"</td>\n",
              "      <td>nao.openHand('LHand')\\r\\nnao.openHand('RHand')...</td>\n",
              "      <td>No</td>\n",
              "      <td>16.022</td>\n",
              "      <td>7.0</td>\n",
              "      <td>Yes</td>\n",
              "      <td>gpt-3.5-turbo</td>\n",
              "      <td>0.944265</td>\n",
              "      <td>11.5044</td>\n",
              "    </tr>\n",
              "    <tr>\n",
              "      <th>2</th>\n",
              "      <td>\"Raccontami brevemente come si svolge la visit...</td>\n",
              "      <td>\"Una visita cardiologica e un controllo medico...</td>\n",
              "      <td>Yes</td>\n",
              "      <td>12.151</td>\n",
              "      <td>2.0</td>\n",
              "      <td>Yes</td>\n",
              "      <td>gpt-3.5-turbo</td>\n",
              "      <td>0.188692</td>\n",
              "      <td>3.4302</td>\n",
              "    </tr>\n",
              "    <tr>\n",
              "      <th>3</th>\n",
              "      <td>\"batti il pugno\"</td>\n",
              "      <td>nao.setAngle(['LShoulderPitch'  'LElbowRoll'  ...</td>\n",
              "      <td>No</td>\n",
              "      <td>3.955</td>\n",
              "      <td>3.0</td>\n",
              "      <td>Yes</td>\n",
              "      <td>gpt-3.5-turbo</td>\n",
              "      <td>0.222455</td>\n",
              "      <td>3.7910</td>\n",
              "    </tr>\n",
              "    <tr>\n",
              "      <th>4</th>\n",
              "      <td>\"cammina\"</td>\n",
              "      <td>nao.moveforward(0.5)</td>\n",
              "      <td>No</td>\n",
              "      <td>3.158</td>\n",
              "      <td>2.0</td>\n",
              "      <td>Yes</td>\n",
              "      <td>gpt-3.5-turbo</td>\n",
              "      <td>0.048455</td>\n",
              "      <td>1.9316</td>\n",
              "    </tr>\n",
              "    <tr>\n",
              "      <th>5</th>\n",
              "      <td>\"Raccontami una breve favola.\"</td>\n",
              "      <td>nao.say(\\\"C'era una volta in un bosco incantat...</td>\n",
              "      <td>No</td>\n",
              "      <td>5.785</td>\n",
              "      <td>1.0</td>\n",
              "      <td>No</td>\n",
              "      <td>gpt-3.5-turbo</td>\n",
              "      <td>0.050832</td>\n",
              "      <td>1.9570</td>\n",
              "    </tr>\n",
              "  </tbody>\n",
              "</table>\n",
              "</div>"
            ],
            "text/plain": [
              "                                            Question  \\\n",
              "0                                     \"Dammi il 5!\"    \n",
              "1                                   \"batti le mani\"    \n",
              "2  \"Raccontami brevemente come si svolge la visit...   \n",
              "3                                  \"batti il pugno\"    \n",
              "4                                         \"cammina\"    \n",
              "5                    \"Raccontami una breve favola.\"    \n",
              "\n",
              "                                              Answer Failure  Elapsed Time  \\\n",
              "0  nao.setAngle(['RShoulderPitch'  'RElbowRoll'  ...      No         3.927   \n",
              "1  nao.openHand('LHand')\\r\\nnao.openHand('RHand')...      No        16.022   \n",
              "2  \"Una visita cardiologica e un controllo medico...     Yes        12.151   \n",
              "3  nao.setAngle(['LShoulderPitch'  'LElbowRoll'  ...      No         3.955   \n",
              "4                               nao.moveforward(0.5)      No         3.158   \n",
              "5  nao.say(\\\"C'era una volta in un bosco incantat...      No         5.785   \n",
              "\n",
              "   Num_tries Corrected    GPT-version  Score_Norm    Score  \n",
              "0        2.0       Yes  gpt-3.5-turbo    0.175142   3.2854  \n",
              "1        7.0       Yes  gpt-3.5-turbo    0.944265  11.5044  \n",
              "2        2.0       Yes  gpt-3.5-turbo    0.188692   3.4302  \n",
              "3        3.0       Yes  gpt-3.5-turbo    0.222455   3.7910  \n",
              "4        2.0       Yes  gpt-3.5-turbo    0.048455   1.9316  \n",
              "5        1.0        No  gpt-3.5-turbo    0.050832   1.9570  "
            ]
          },
          "execution_count": 4,
          "metadata": {},
          "output_type": "execute_result"
        }
      ],
      "source": [
        "df = pd.read_csv('./PromptTable_eval_with_Score.csv', sep=';')\n",
        "df.head(6)"
      ]
    },
    {
      "cell_type": "markdown",
      "metadata": {},
      "source": [
        "Accuracy calculus with no error correction involved"
      ]
    },
    {
      "cell_type": "code",
      "execution_count": 5,
      "metadata": {},
      "outputs": [
        {
          "name": "stdout",
          "output_type": "stream",
          "text": [
            "0.5824175824175825\n"
          ]
        }
      ],
      "source": [
        "def accuracy_vanilla_score_gpt3_gpt4(df):\n",
        "    num_correct = 0\n",
        "    num_total = df.shape[0]\n",
        "    for index, row in df.iterrows():\n",
        "        if row['Corrected'] == 'No':\n",
        "            num_correct = num_correct + 1\n",
        "\n",
        "    return num_correct / num_total\n",
        "\n",
        "\n",
        "print(accuracy_vanilla_score_gpt3_gpt4(df))"
      ]
    },
    {
      "cell_type": "markdown",
      "metadata": {},
      "source": [
        "Accuracy calculus with the error correction involved"
      ]
    },
    {
      "cell_type": "code",
      "execution_count": 6,
      "metadata": {
        "id": "J9BOfFeN0ZeI",
        "outputId": "c263751e-b39a-4cde-8644-f7d3d73dc761"
      },
      "outputs": [
        {
          "name": "stdout",
          "output_type": "stream",
          "text": [
            "0.9230769230769231\n"
          ]
        }
      ],
      "source": [
        "def accuracy_correction_score_gpt3_gpt4(df):\n",
        "    num_with_correction = 0\n",
        "    num_total = df.shape[0]\n",
        "    for index, row in df.iterrows():\n",
        "        if row['Corrected'] != 'Impossible':\n",
        "            num_with_correction = num_with_correction + 1\n",
        "\n",
        "    return num_with_correction / num_total\n",
        "\n",
        "\n",
        "print(accuracy_correction_score_gpt3_gpt4(df))"
      ]
    },
    {
      "cell_type": "markdown",
      "metadata": {},
      "source": [
        "ACCURACY CALCULUS WITH DIFFICULTY LEVEL"
      ]
    },
    {
      "cell_type": "markdown",
      "metadata": {},
      "source": [
        "With the Error Correction involved"
      ]
    },
    {
      "cell_type": "code",
      "execution_count": 7,
      "metadata": {},
      "outputs": [
        {
          "name": "stdout",
          "output_type": "stream",
          "text": [
            "1.0\n"
          ]
        }
      ],
      "source": [
        "def accuracy_correction_score_gpt3_easy(df):\n",
        "    num_with_correction = 0\n",
        "    df = df[df['Score'] < 2.0]  #### 0.0 <= score < 2.0 Easy\n",
        "    df = df[df['Score'] >= 0.0]\n",
        "    num_total = df.shape[0]\n",
        "    for index, row in df.iterrows():\n",
        "        if row['Corrected'] != 'Impossible':\n",
        "            num_with_correction = num_with_correction + 1\n",
        "\n",
        "    return num_with_correction / num_total\n",
        "\n",
        "\n",
        "print(accuracy_correction_score_gpt3_easy(df))"
      ]
    },
    {
      "cell_type": "code",
      "execution_count": 8,
      "metadata": {},
      "outputs": [
        {
          "name": "stdout",
          "output_type": "stream",
          "text": [
            "1.0\n"
          ]
        }
      ],
      "source": [
        "def accuracy_correction_score_gpt3_medium(df):\n",
        "    num_with_correction = 0\n",
        "    df = df[df['Score'] < 4.0]   #2.0 <= score < 4.0 Medium\n",
        "    df = df[df['Score'] >= 2.0]\n",
        "    num_total = df.shape[0]\n",
        "    for index, row in df.iterrows():\n",
        "        if row['Corrected'] != 'Impossible':\n",
        "            num_with_correction = num_with_correction + 1\n",
        "\n",
        "    return num_with_correction / num_total\n",
        "\n",
        "\n",
        "print(accuracy_correction_score_gpt3_medium(df))"
      ]
    },
    {
      "cell_type": "code",
      "execution_count": 9,
      "metadata": {},
      "outputs": [
        {
          "name": "stdout",
          "output_type": "stream",
          "text": [
            "0.72\n"
          ]
        }
      ],
      "source": [
        "def accuracy_correction_score_gpt3_hard(df):\n",
        "    num_with_correction = 0\n",
        "    df = df[df['Score'] >= 4.0] #score >= 4  Hard\n",
        "    num_total = df.shape[0]\n",
        "    for index, row in df.iterrows():\n",
        "        if row['Corrected'] != 'Impossible':\n",
        "            num_with_correction = num_with_correction + 1\n",
        "\n",
        "    return num_with_correction / num_total\n",
        "\n",
        "\n",
        "print(accuracy_correction_score_gpt3_hard(df))"
      ]
    },
    {
      "cell_type": "markdown",
      "metadata": {},
      "source": [
        "With no error correction involved"
      ]
    },
    {
      "cell_type": "code",
      "execution_count": 10,
      "metadata": {},
      "outputs": [
        {
          "name": "stdout",
          "output_type": "stream",
          "text": [
            "0.96\n"
          ]
        }
      ],
      "source": [
        "def accuracy_vanilla_score_gpt3_easy(df):\n",
        "    num_with_correction = 0\n",
        "    df = df[df['Score'] < 2.0]  #### 0.0<= score < 2.0 Easy\n",
        "    df = df[df['Score'] >= 0.0]\n",
        "    num_total = df.shape[0] \n",
        "    for index, row in df.iterrows():\n",
        "        if row['Corrected'] == 'No':\n",
        "            num_with_correction = num_with_correction + 1\n",
        "\n",
        "    return num_with_correction / num_total\n",
        "\n",
        "\n",
        "print(accuracy_vanilla_score_gpt3_easy(df))"
      ]
    },
    {
      "cell_type": "code",
      "execution_count": 11,
      "metadata": {},
      "outputs": [
        {
          "name": "stdout",
          "output_type": "stream",
          "text": [
            "0.6097560975609756\n"
          ]
        }
      ],
      "source": [
        "def accuracy_vanilla_score_gpt3_medium(df):\n",
        "    num_with_correction = 0\n",
        "    df = df[df['Score'] < 4.0]  #### 2.0 <= score < 4.0 Medium\n",
        "    df = df[df['Score'] >= 2.0]\n",
        "    num_total = df.shape[0] \n",
        "    for index, row in df.iterrows():\n",
        "        if row['Corrected'] == 'No':\n",
        "            num_with_correction = num_with_correction + 1\n",
        "\n",
        "    return num_with_correction / num_total\n",
        "\n",
        "\n",
        "print(accuracy_vanilla_score_gpt3_medium(df))"
      ]
    },
    {
      "cell_type": "code",
      "execution_count": 14,
      "metadata": {},
      "outputs": [
        {
          "name": "stdout",
          "output_type": "stream",
          "text": [
            "0.15384615384615385\n"
          ]
        }
      ],
      "source": [
        "def accuracy_vanilla_score_gpt3_hard(df):\n",
        "    num_with_correction = 0  \n",
        "    df = df[df['Score'] >= 4.0]#### score >= 4.0 Hard\n",
        "    num_total = df.shape[0] + 1\n",
        "    for index, row in df.iterrows():\n",
        "        if row['Corrected'] == 'No':\n",
        "            num_with_correction = num_with_correction + 1\n",
        "\n",
        "    return num_with_correction / num_total\n",
        "\n",
        "\n",
        "print(accuracy_vanilla_score_gpt3_hard(df))"
      ]
    },
    {
      "cell_type": "markdown",
      "metadata": {},
      "source": [
        "Cumulative Accuracy Table per Difficulties"
      ]
    },
    {
      "cell_type": "code",
      "execution_count": 15,
      "metadata": {},
      "outputs": [
        {
          "data": {
            "text/html": [
              "<div>\n",
              "<style scoped>\n",
              "    .dataframe tbody tr th:only-of-type {\n",
              "        vertical-align: middle;\n",
              "    }\n",
              "\n",
              "    .dataframe tbody tr th {\n",
              "        vertical-align: top;\n",
              "    }\n",
              "\n",
              "    .dataframe thead th {\n",
              "        text-align: right;\n",
              "    }\n",
              "</style>\n",
              "<table border=\"1\" class=\"dataframe\">\n",
              "  <thead>\n",
              "    <tr style=\"text-align: right;\">\n",
              "      <th></th>\n",
              "      <th>Easy</th>\n",
              "      <th>Medium</th>\n",
              "      <th>Hard</th>\n",
              "    </tr>\n",
              "  </thead>\n",
              "  <tbody>\n",
              "    <tr>\n",
              "      <th>Vanilla</th>\n",
              "      <td>0.96</td>\n",
              "      <td>0.61</td>\n",
              "      <td>0.15</td>\n",
              "    </tr>\n",
              "    <tr>\n",
              "      <th>Correction</th>\n",
              "      <td>1.00</td>\n",
              "      <td>1.00</td>\n",
              "      <td>0.72</td>\n",
              "    </tr>\n",
              "  </tbody>\n",
              "</table>\n",
              "</div>"
            ],
            "text/plain": [
              "            Easy  Medium  Hard\n",
              "Vanilla     0.96    0.61  0.15\n",
              "Correction  1.00    1.00  0.72"
            ]
          },
          "execution_count": 15,
          "metadata": {},
          "output_type": "execute_result"
        }
      ],
      "source": [
        "df_evaluation_results = pd.DataFrame([[round(accuracy_vanilla_score_gpt3_easy(df),2), round(accuracy_vanilla_score_gpt3_medium(df),2), round(accuracy_vanilla_score_gpt3_hard(df),2)], [round(accuracy_correction_score_gpt3_easy(df),2),round(accuracy_correction_score_gpt3_medium(df),2),round(accuracy_correction_score_gpt3_hard(df),2)]], index=['Vanilla','Correction'], columns = ['Easy','Medium','Hard'])\n",
        "df_evaluation_results"
      ]
    },
    {
      "cell_type": "code",
      "execution_count": 16,
      "metadata": {},
      "outputs": [
        {
          "data": {
            "image/png": "[encoded data removed]",
            "text/plain": [
              "<Figure size 640x480 with 1 Axes>"
            ]
          },
          "metadata": {},
          "output_type": "display_data"
        }
      ],
      "source": [
        "c = ['green', 'orange', 'red']\n",
        "df_evaluation_results.plot(kind='bar', color= c, stacked=False)\n",
        "\n",
        "plt.title('Bar Plot: Cumulative Accuracy')\n",
        "plt.xlabel('Model Type')\n",
        "plt.ylabel('Accuracy')\n",
        "plt.xticks(rotation=45, ha='right')\n",
        "plt.legend(title='Difficulty Level')\n",
        "plt.yticks(rotation=0)\n",
        "plt.tight_layout()\n",
        "plt.show()"
      ]
    }
  ],
  "metadata": {
    "colab": {
      "provenance": []
    },
    "kernelspec": {
      "display_name": "Python 3 (ipykernel)",
      "language": "python",
      "name": "python3"
    },
    "language_info": {
      "codemirror_mode": {
        "name": "ipython",
        "version": 3
      },
      "file_extension": ".py",
      "mimetype": "text/x-python",
      "name": "python",
      "nbconvert_exporter": "python",
      "pygments_lexer": "ipython3",
      "version": "3.7.16"
    }
  },
  "nbformat": 4,
  "nbformat_minor": 0
}
